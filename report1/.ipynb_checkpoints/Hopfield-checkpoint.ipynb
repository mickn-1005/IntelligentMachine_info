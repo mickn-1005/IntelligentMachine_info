{
 "cells": [
  {
   "cell_type": "markdown",
   "metadata": {},
   "source": [
    "# 知能機械情報学レポート課題１\n",
    "hopfield networkの実装"
   ]
  },
  {
   "cell_type": "code",
   "execution_count": 9,
   "metadata": {
    "collapsed": false,
    "scrolled": false
   },
   "outputs": [
    {
     "ename": "LoadError",
     "evalue": "\u001b[91mMethodError: no method matching *(::Tuple{Int64}, ::Int64)\u001b[0m\nClosest candidates are:\n  *(::Any, ::Any, \u001b[91m::Any\u001b[39m, \u001b[91m::Any...\u001b[39m) at operators.jl:424\n  *(\u001b[91m::Bool\u001b[39m, ::T<:Number) where T<:Number at bool.jl:101\n  *(\u001b[91m::Complex{Bool}\u001b[39m, ::Real) at complex.jl:255\n  ...\u001b[39m",
     "output_type": "error",
     "traceback": [
      "\u001b[91mMethodError: no method matching *(::Tuple{Int64}, ::Int64)\u001b[0m\nClosest candidates are:\n  *(::Any, ::Any, \u001b[91m::Any\u001b[39m, \u001b[91m::Any...\u001b[39m) at operators.jl:424\n  *(\u001b[91m::Bool\u001b[39m, ::T<:Number) where T<:Number at bool.jl:101\n  *(\u001b[91m::Complex{Bool}\u001b[39m, ::Real) at complex.jl:255\n  ...\u001b[39m",
      "",
      "Stacktrace:",
      " [1] \u001b[1mlearning\u001b[22m\u001b[22m\u001b[1m(\u001b[22m\u001b[22m::Array{Array{Int64,1},1}\u001b[1m)\u001b[22m\u001b[22m at \u001b[1m./In[6]:4\u001b[22m\u001b[22m",
      " [2] \u001b[1mmain\u001b[22m\u001b[22m\u001b[1m(\u001b[22m\u001b[22m\u001b[1m)\u001b[22m\u001b[22m at \u001b[1m./In[8]:3\u001b[22m\u001b[22m"
     ]
    }
   ],
   "source": [
    "main()"
   ]
  },
  {
   "cell_type": "code",
   "execution_count": 1,
   "metadata": {
    "collapsed": false
   },
   "outputs": [],
   "source": [
    "using Plots, RandomNumbers"
   ]
  },
  {
   "cell_type": "code",
   "execution_count": 2,
   "metadata": {
    "collapsed": false
   },
   "outputs": [
    {
     "data": {
      "text/plain": [
       "MersenneTwister(UInt32[0x0000006f], Base.dSFMT.DSFMT_state(Int32[-1742434217, 1072888606, -1808167675, 1073264677, -816900598, 1073279215, -1688324199, 1073349469, 966630521, 1072721743  …  -182202980, 1073352782, -336987111, 1073634920, 293846579, -2027139531, -1236354088, -20277153, 382, 0]), [0.0, 0.0, 0.0, 0.0, 0.0, 0.0, 0.0, 0.0, 0.0, 0.0  …  0.0, 0.0, 0.0, 0.0, 0.0, 0.0, 0.0, 0.0, 0.0, 0.0], 382)"
      ]
     },
     "execution_count": 2,
     "metadata": {},
     "output_type": "execute_result"
    }
   ],
   "source": [
    "# 検証用メルセンヌツイスター乱数\n",
    "rnd = MersenneTwister(111)"
   ]
  },
  {
   "cell_type": "code",
   "execution_count": 3,
   "metadata": {
    "collapsed": false
   },
   "outputs": [
    {
     "data": {
      "text/plain": [
       "25"
      ]
     },
     "execution_count": 3,
     "metadata": {},
     "output_type": "execute_result"
    }
   ],
   "source": [
    "const theta = 0.\n",
    "const patsize = 1\n",
    "const neusize = 5*5  #記憶容量を考慮したニューロン数"
   ]
  },
  {
   "cell_type": "code",
   "execution_count": 4,
   "metadata": {
    "collapsed": false
   },
   "outputs": [
    {
     "data": {
      "text/plain": [
       "lyapnov (generic function with 1 method)"
      ]
     },
     "execution_count": 4,
     "metadata": {},
     "output_type": "execute_result"
    }
   ],
   "source": [
    "function sgn(x::AbstractFloat)\n",
    "    if x >= 0\n",
    "        return 1\n",
    "    else\n",
    "        return -1\n",
    "    end\n",
    "end\n",
    "function lyapnov(w::AbstractMatrix,xr::AbstractArray)\n",
    "    return xr * w * transpose(xr) + sum(theta * xr)\n",
    "end"
   ]
  },
  {
   "cell_type": "code",
   "execution_count": 5,
   "metadata": {
    "collapsed": false
   },
   "outputs": [
    {
     "data": {
      "text/plain": [
       "make_train_data (generic function with 1 method)"
      ]
     },
     "execution_count": 5,
     "metadata": {},
     "output_type": "execute_result"
    }
   ],
   "source": [
    "function make_train_data(num::Int, dim::Int)\n",
    "#     train = []\n",
    "    vector = zeros(dim^2)\n",
    "#     for i in 1:num\n",
    "#         train[i] = sgn.(rand(rnd, dim^2)-0.5)\n",
    "#     end\n",
    "    train = [sgn.(rand(rnd, dim^2)-0.5) for i in 1:num]\n",
    "    return train\n",
    "end"
   ]
  },
  {
   "cell_type": "code",
   "execution_count": 6,
   "metadata": {
    "collapsed": false
   },
   "outputs": [
    {
     "data": {
      "text/plain": [
       "learning (generic function with 1 method)"
      ]
     },
     "execution_count": 6,
     "metadata": {},
     "output_type": "execute_result"
    }
   ],
   "source": [
    "function learning(pat_ar::AbstractArray)\n",
    "    weight = zeros(neusize, neusize)  #重み行列の初期化\n",
    "    Q = size(pat_ar)\n",
    "    rho = sum([sum(pat) for pat in pat_ar]) / (Q * neusize)\n",
    "    return weight\n",
    "end"
   ]
  },
  {
   "cell_type": "code",
   "execution_count": 7,
   "metadata": {
    "collapsed": false
   },
   "outputs": [
    {
     "data": {
      "text/plain": [
       "predict (generic function with 1 method)"
      ]
     },
     "execution_count": 7,
     "metadata": {},
     "output_type": "execute_result"
    }
   ],
   "source": [
    "function  predict()\n",
    "    lyapnov(weight, reshape(one,(1,25)))\n",
    "end"
   ]
  },
  {
   "cell_type": "code",
   "execution_count": 8,
   "metadata": {
    "collapsed": false
   },
   "outputs": [
    {
     "data": {
      "text/plain": [
       "main (generic function with 1 method)"
      ]
     },
     "execution_count": 8,
     "metadata": {},
     "output_type": "execute_result"
    }
   ],
   "source": [
    "function main()\n",
    "    pats = make_train_data(1,5)\n",
    "    weight = learning(pats)\n",
    "    predict()\n",
    "end"
   ]
  },
  {
   "cell_type": "code",
   "execution_count": null,
   "metadata": {
    "collapsed": true
   },
   "outputs": [],
   "source": []
  },
  {
   "cell_type": "code",
   "execution_count": 28,
   "metadata": {
    "collapsed": false
   },
   "outputs": [
    {
     "data": {
      "text/plain": [
       "3-element Array{Array{Int64,1},1}:\n",
       " [1, -1, 1, 1, 1, -1, 1, 1, 1, -1  …  1, -1, -1, -1, 1, -1, -1, 1, -1, -1]   \n",
       " [-1, -1, 1, -1, -1, -1, -1, -1, -1, 1  …  -1, -1, -1, 1, -1, 1, -1, 1, 1, 1]\n",
       " [1, -1, -1, -1, -1, -1, 1, -1, -1, 1  …  1, -1, 1, -1, 1, -1, 1, 1, -1, -1] "
      ]
     },
     "execution_count": 28,
     "metadata": {},
     "output_type": "execute_result"
    }
   ],
   "source": [
    "k = make_train_data(3,5)"
   ]
  },
  {
   "cell_type": "code",
   "execution_count": 26,
   "metadata": {
    "collapsed": false
   },
   "outputs": [
    {
     "ename": "LoadError",
     "evalue": "\u001b[91mBoundsError: attempt to access 1-element Array{Array{Int64,1},1} at index [2]\u001b[39m",
     "output_type": "error",
     "traceback": [
      "\u001b[91mBoundsError: attempt to access 1-element Array{Array{Int64,1},1} at index [2]\u001b[39m",
      "",
      "Stacktrace:",
      " [1] \u001b[1mgetindex\u001b[22m\u001b[22m\u001b[1m(\u001b[22m\u001b[22m::Array{Array{Int64,1},1}, ::Int64\u001b[1m)\u001b[22m\u001b[22m at \u001b[1m./array.jl:554\u001b[22m\u001b[22m"
     ]
    }
   ],
   "source": [
    "k[2]"
   ]
  },
  {
   "cell_type": "code",
   "execution_count": null,
   "metadata": {
    "collapsed": true
   },
   "outputs": [],
   "source": []
  },
  {
   "cell_type": "code",
   "execution_count": null,
   "metadata": {
    "collapsed": true
   },
   "outputs": [],
   "source": []
  },
  {
   "cell_type": "code",
   "execution_count": null,
   "metadata": {
    "collapsed": true
   },
   "outputs": [],
   "source": []
  },
  {
   "cell_type": "code",
   "execution_count": 10,
   "metadata": {
    "collapsed": false
   },
   "outputs": [
    {
     "data": {
      "text/plain": [
       "1×25 Array{Int64,2}:\n",
       " -1  -1  -1  -1  -1  -1  -1  -1  -1  …  -1  -1  -1  -1  -1  -1  -1  -1  -1"
      ]
     },
     "execution_count": 10,
     "metadata": {},
     "output_type": "execute_result"
    }
   ],
   "source": [
    "o_vec = reshape(pat_one, (1,25))"
   ]
  },
  {
   "cell_type": "code",
   "execution_count": 11,
   "metadata": {
    "collapsed": false
   },
   "outputs": [
    {
     "data": {
      "text/plain": [
       "25×25 Array{Int64,2}:\n",
       "  1   1   1   1   1   1   1   1   1  …   1   1   1   1   1   1   1   1   1\n",
       "  1   1   1   1   1   1   1   1   1      1   1   1   1   1   1   1   1   1\n",
       "  1   1   1   1   1   1   1   1   1      1   1   1   1   1   1   1   1   1\n",
       "  1   1   1   1   1   1   1   1   1      1   1   1   1   1   1   1   1   1\n",
       "  1   1   1   1   1   1   1   1   1      1   1   1   1   1   1   1   1   1\n",
       "  1   1   1   1   1   1   1   1   1  …   1   1   1   1   1   1   1   1   1\n",
       "  1   1   1   1   1   1   1   1   1      1   1   1   1   1   1   1   1   1\n",
       "  1   1   1   1   1   1   1   1   1      1   1   1   1   1   1   1   1   1\n",
       "  1   1   1   1   1   1   1   1   1      1   1   1   1   1   1   1   1   1\n",
       "  1   1   1   1   1   1   1   1   1      1   1   1   1   1   1   1   1   1\n",
       "  1   1   1   1   1   1   1   1   1  …   1   1   1   1   1   1   1   1   1\n",
       " -1  -1  -1  -1  -1  -1  -1  -1  -1     -1  -1  -1  -1  -1  -1  -1  -1  -1\n",
       " -1  -1  -1  -1  -1  -1  -1  -1  -1     -1  -1  -1  -1  -1  -1  -1  -1  -1\n",
       " -1  -1  -1  -1  -1  -1  -1  -1  -1     -1  -1  -1  -1  -1  -1  -1  -1  -1\n",
       "  1   1   1   1   1   1   1   1   1      1   1   1   1   1   1   1   1   1\n",
       "  1   1   1   1   1   1   1   1   1  …   1   1   1   1   1   1   1   1   1\n",
       "  1   1   1   1   1   1   1   1   1      1   1   1   1   1   1   1   1   1\n",
       "  1   1   1   1   1   1   1   1   1      1   1   1   1   1   1   1   1   1\n",
       "  1   1   1   1   1   1   1   1   1      1   1   1   1   1   1   1   1   1\n",
       "  1   1   1   1   1   1   1   1   1      1   1   1   1   1   1   1   1   1\n",
       "  1   1   1   1   1   1   1   1   1  …   1   1   1   1   1   1   1   1   1\n",
       "  1   1   1   1   1   1   1   1   1      1   1   1   1   1   1   1   1   1\n",
       "  1   1   1   1   1   1   1   1   1      1   1   1   1   1   1   1   1   1\n",
       "  1   1   1   1   1   1   1   1   1      1   1   1   1   1   1   1   1   1\n",
       "  1   1   1   1   1   1   1   1   1      1   1   1   1   1   1   1   1   1"
      ]
     },
     "execution_count": 11,
     "metadata": {},
     "output_type": "execute_result"
    }
   ],
   "source": [
    "prob_time = transpose(o_vec) * o_vec"
   ]
  },
  {
   "cell_type": "code",
   "execution_count": 12,
   "metadata": {
    "collapsed": false
   },
   "outputs": [
    {
     "data": {
      "text/plain": [
       "361"
      ]
     },
     "execution_count": 12,
     "metadata": {},
     "output_type": "execute_result"
    }
   ],
   "source": [
    "sum(prob_time)"
   ]
  },
  {
   "cell_type": "code",
   "execution_count": 21,
   "metadata": {
    "collapsed": false
   },
   "outputs": [
    {
     "data": {
      "text/plain": [
       "25"
      ]
     },
     "execution_count": 21,
     "metadata": {},
     "output_type": "execute_result"
    }
   ],
   "source": [
    "size(o_vec)[2]"
   ]
  },
  {
   "cell_type": "code",
   "execution_count": 31,
   "metadata": {
    "collapsed": false
   },
   "outputs": [
    {
     "data": {
      "text/plain": [
       "1-element Array{Array{Int64,2},1}:\n",
       " [-1 -1 … -1 -1]"
      ]
     },
     "execution_count": 31,
     "metadata": {},
     "output_type": "execute_result"
    }
   ],
   "source": [
    "pats = [reshape(pat_one,(1, size(pat_one)[1]*size(pat_one)[2]))]"
   ]
  },
  {
   "cell_type": "code",
   "execution_count": 32,
   "metadata": {
    "collapsed": false
   },
   "outputs": [
    {
     "data": {
      "text/plain": [
       "1×25 Array{Int64,2}:\n",
       " -1  -1  -1  -1  -1  -1  -1  -1  -1  …  -1  -1  -1  -1  -1  -1  -1  -1  -1"
      ]
     },
     "execution_count": 32,
     "metadata": {},
     "output_type": "execute_result"
    }
   ],
   "source": [
    "pats[1]"
   ]
  },
  {
   "cell_type": "code",
   "execution_count": null,
   "metadata": {
    "collapsed": true
   },
   "outputs": [],
   "source": []
  },
  {
   "cell_type": "code",
   "execution_count": null,
   "metadata": {
    "collapsed": true
   },
   "outputs": [],
   "source": []
  },
  {
   "cell_type": "code",
   "execution_count": 18,
   "metadata": {
    "collapsed": false
   },
   "outputs": [
    {
     "data": {
      "text/plain": [
       "learning (generic function with 1 method)"
      ]
     },
     "execution_count": 18,
     "metadata": {},
     "output_type": "execute_result"
    }
   ],
   "source": []
  },
  {
   "cell_type": "code",
   "execution_count": 7,
   "metadata": {
    "collapsed": false
   },
   "outputs": [
    {
     "data": {
      "text/plain": [
       "predict (generic function with 1 method)"
      ]
     },
     "execution_count": 7,
     "metadata": {},
     "output_type": "execute_result"
    }
   ],
   "source": [
    "\n"
   ]
  },
  {
   "cell_type": "code",
   "execution_count": null,
   "metadata": {
    "collapsed": true
   },
   "outputs": [],
   "source": []
  },
  {
   "cell_type": "code",
   "execution_count": null,
   "metadata": {
    "collapsed": true
   },
   "outputs": [],
   "source": []
  },
  {
   "cell_type": "code",
   "execution_count": null,
   "metadata": {
    "collapsed": true
   },
   "outputs": [],
   "source": []
  }
 ],
 "metadata": {
  "kernelspec": {
   "display_name": "Julia 0.6.2",
   "language": "julia",
   "name": "julia-0.6"
  },
  "language_info": {
   "file_extension": ".jl",
   "mimetype": "application/julia",
   "name": "julia",
   "version": "0.6.2"
  }
 },
 "nbformat": 4,
 "nbformat_minor": 2
}
